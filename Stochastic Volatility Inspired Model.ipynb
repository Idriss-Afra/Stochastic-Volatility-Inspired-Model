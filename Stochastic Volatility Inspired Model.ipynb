{
 "cells": [
  {
   "cell_type": "markdown",
   "metadata": {
    "id": "TsLU15qNCU1B"
   },
   "source": [
    "# Stochastic Volatility Inspired Model\n",
    "------------------\n",
    "> **Idriss Afra**\n",
    "\n",
    "This project aims to construct the Implied Volatility surface under the Stochastic Volatility Inspired (SVI) model."
   ]
  },
  {
   "cell_type": "markdown",
   "metadata": {
    "id": "FwDjClUyvR_o"
   },
   "source": [
    "##The SVI Parameterization\n",
    "\n",
    "The SVI is a parametric model with five parameters per market tenor : $\\Gamma_T :=$ {$a, b, \\rho, m, \\sigma$}. It models the implied total variance :\n",
    "\n",
    "$$\n",
    "\\sigma_{Imp}^{2}(k, \\Gamma_T) . T = \\omega(k, \\Gamma_T):= a + b × \\left[\\rho (k - m) + \\sqrt{(k-m)^2 + \\sigma^2} \\space \\right]\n",
    "$$\n",
    "\n",
    "Where :\n",
    "\n",
    "$$\n",
    "k := ln \\left( \\frac{Strike}{F_T} \\right) \\in ℝ, \\space a ∈ ℝ, \\space b ≥ 0, \\space |\\rho| \\lt 1, \\space m \\in ℝ, \\space \\sigma \\gt 0, \\space a + b \\sigma \\sqrt{1-\\rho^2} \\ge 0\n",
    "$$\n",
    "\n",
    "The last condition ensures that the minimum of the implied total variance is\n",
    "positive. Note that we choose to use the log-forward moneyness for scaling purposes.\n",
    "\n",
    "The five parameters control the implied total variance as follows :\n",
    "* $a$ : Determines the overall level of total variance. Increasing $a$ increases the general level of\n",
    "variance by a vertical translation of the smile.\n",
    "* $b$ : Controls the angle between the left and right asymptotes (Convexity). Increasing $b$ tights the smile.\n",
    "* $\\rho$ : Determines the orientation of the graph. Increasing $\\rho$ forces a counter-clockwise rotation of the smile.\n",
    "* $m$ : Forces a horizontal translation of the smile. Increasing $m$ translates the smile to the right.\n",
    "* $\\sigma$ : Determines the curvature of the smile. Increasing $\\sigma$ reduces the at-the-money (ATM) curvature\n",
    "of the smile."
   ]
  },
  {
   "cell_type": "code",
   "execution_count": 1,
   "metadata": {
    "id": "bfnbJp3n283Z"
   },
   "outputs": [],
   "source": [
    "import numpy as np\n",
    "\n",
    "def svi_v2T(k, a, b, rho, m, sigma) :\n",
    "  \"\"\"\n",
    "  V2T formula under the SVI model.\n",
    "  The log-moneyness k can be a scalar or an array, the function will return the SVI total variances.\n",
    "  \"\"\"\n",
    "  return a + b * (rho * (k - m) + np.sqrt((k - m)**2 + sigma **2))\n",
    "\n",
    "def svi_vol(k, a, b, rho, m, sigma, T) :\n",
    "  \"\"\"\n",
    "  The SVI implied volatilities.\n",
    "  The log-moneyness k can be a scalar or an array.\n",
    "  \"\"\"\n",
    "  v2T = svi_v2T(k, a, b, rho, m, sigma)\n",
    "  return np.sqrt(v2T / T)"
   ]
  },
  {
   "cell_type": "markdown",
   "metadata": {
    "id": "uDIourT_9Q7K"
   },
   "source": [
    "## The Butterfly Arbitrage\n",
    "\n",
    "In order to ensure the Butterfly free-arbitrage under the SVI model, the  probability density function of $S_T$ needs to be non-negative :\n",
    "\n",
    "$$\n",
    "p_{S_T}(k) = \\frac{δ^2C_{BS}(k, \\omega(k, \\Gamma_T))}{δK^2}\\gt 0\n",
    "$$\n",
    "\n",
    "Where :\n",
    "\n",
    "$$\n",
    "\\begin{align}\n",
    "C_{BS}(k, \\omega(k, \\Gamma_T)) & = S e^{-qT} × \\left(N(d_1) - e^k N(d_2)\\right) \\\\\n",
    "d_1 & = \\frac{-k + ω(k, Γ_T) / 2}{\\sqrt{ω(k, Γ_T)}} \\\\\n",
    "d_2 & = d_1 - \\sqrt{ω(k, Γ_T)}\n",
    "\\end{align}\n",
    "$$\n",
    "\n",
    "By differentiating the above Black-Scholes formula for any $k \\in ℝ$, we get :\n",
    "$$\n",
    "p_{S_T}(k) = \\frac{g(k)}{\\sqrt{2Π.ω(k, Γ_T)}} × e^{-\\frac{d_2^2}{2}}\n",
    "$$\n",
    "Where :\n",
    "$$\n",
    "g(k) := \\left(1- \\frac{k.ω'(k, Γ_T)}{2.ω(k, Γ_T)}\\right)^2 - \\frac{ω'(k, Γ_T)^2}{4} × \\left( \\frac{1}{ω(k, Γ_T)} + \\frac{1}{4}\\right) + \\frac{ω''(k, Γ_T)}{2}\n",
    "$$\n",
    "\n",
    "<br>Therefore, the Butterfly free-arbitrage condition is : $ g(k) > 0 $\n",
    "\n"
   ]
  },
  {
   "cell_type": "markdown",
   "metadata": {
    "id": "cmRBij7Q86mM"
   },
   "source": [
    "## Volatility on the Wings\n",
    "\n",
    "To guarantee the Butterfly free-arbitrage, we should focus on the wings. In fact, we need to ensure that the  probability density function of $S_T$, and hence $g(k)$, is non-negative for extreme strikes.\n",
    "\n",
    "Since :\n",
    "* For ${k \\to +∞}$ : $\\omega_R(k, Γ_T) ≈ b(\\rho + 1)k + [a-bm(\\rho + 1)] $\n",
    "* For ${k \\to -∞}$ : $\\omega_L(k, Γ_T) ≈ b(\\rho - 1)k + [a-bm(\\rho - 1)] $\n",
    "\n",
    "Then for extreme strikes, $g(k)$ turns to the following quadratic equation :\n",
    "$$\n",
    "g(k) ≈ \\frac{\\beta^2}{4} \\left(1 - \\frac{\\beta^2}{4}\\right) k^2 + \\frac{1}{4} \\left(4\\alpha\\beta - \\beta^3 - \\frac{\\alpha\\beta^3}{2}\\right) k + \\frac{1}{4} \\left(4\\alpha^2 - \\alpha\\beta^2 - \\frac{\\alpha^2\\beta^2}{4}\\right)\n",
    "$$\n",
    "Where:\n",
    "* For ${k \\to +∞}$ : $\\alpha=a - bm(\\rho + 1)$ and $\\beta=b(\\rho + 1)$\n",
    "* For ${k \\to -∞}$ : $\\alpha=a - bm(\\rho - 1)$ and $\\beta=b(\\rho - 1)$\n",
    "\n",
    "We avoid the arbitrage by considering that the discriminants $Δ_R$ and $Δ_L$ are negative and that $\\frac{\\beta^2}{4} \\left(1 - \\frac{\\beta^2}{4}\\right) \\gt 0$. These conditions implies the following constraints :\n",
    "* Constraint 1 : $(a-mb(\\rho+1))(4-a+mb(\\rho+1))-b^2(\\rho+1)^2 > 0$\n",
    "* Constraint 2 : $(a-mb(\\rho-1))(4-a+mb(\\rho-1))-b^2(\\rho-1)^2 > 0$\n",
    "* Constraint 3 : $0 < b^2(\\rho+1)^2 < 4$\n",
    "* Constraint 4 : $0 < b^2(\\rho-1)^2 < 4$"
   ]
  },
  {
   "cell_type": "markdown",
   "metadata": {
    "id": "IkG2Ah5xRyDF"
   },
   "source": [
    "## The Calendar Arbitrage\n",
    "\n",
    "In order to ensure the Calendar free-arbitrage under the SVI model, we will need to add the following constraints for all the quoted tenors $(T_i)_{1\\le i \\le n}$ : $ω(k, Γ_{T_i}) > ω(k, Γ_{T_{i-1}})$\n"
   ]
  },
  {
   "cell_type": "markdown",
   "metadata": {
    "id": "UBr4SGvWTHA7"
   },
   "source": [
    "## SVI Model Calibration\n",
    "\n",
    "The calibration of the SVI model goes through a minimization process with the objective of replicating the market implied total variances.\n",
    "\n",
    "For each market tenor $T$ :\n",
    "$$\n",
    "\\Gamma_T \\left( a^T, b^T, \\rho^T, m^T, \\sigma^T \\right) = ArgMin_{(a, b, \\rho, m, \\sigma)} ∑_{K_i ∈ Market}\\left(\\omega(k, \\Gamma_T) - (\\sigma_{K_i, T}^{Market}\\sqrt{T})^2 \\right)^2\n",
    "$$"
   ]
  },
  {
   "cell_type": "markdown",
   "metadata": {
    "id": "8rmPlRNitPH9"
   },
   "source": [
    "##SVI's Parameters Boundaries\n",
    "\n",
    "We determine lower and upper boundaries for each SVI parameters in order to run\n",
    "an efficient calibration that respects conditions related to the model and to avoid arbitrages :\n",
    "\n",
    "* Parameter $a$ : \\\\\n",
    "The minimum of the SVI total variance is located at the point : $ k^* = m - \\frac{\\rho \\sigma}{\\sqrt{1 - \\rho^2}} $, and its value is : $ w_{min}(k) = a + b \\sigma \\sqrt{1 - \\rho^2} $. Therefore, we must ensure that : $ a + b \\sigma \\sqrt{1 - \\rho^2} > 0 $. We choose the following stronger condition : $ a > 0 $.\n",
    "Finally, we can conclude that the condition on $a$ is : $\n",
    "0 < 10^{-5} \\le a \\le max({w}^{market})\n",
    "$\n",
    "\n",
    "* Parameter $\\rho$ : \\\\\n",
    "The correlation coefficient must be in the interval : $ ]-1 , 1[ $\n",
    "\n",
    "* Parameter $m$ : \\\\\n",
    "This parameter controls the horizontal translation of the smiles. Therefore, we can floor and cap it with the following reasonable levels : $\n",
    "2 \\times min_i({k_i}^{market}) \\le m \\le 2 \\times max_i({k_i}^{market})\n",
    "$\n",
    "* Parameter $\\sigma$ : \\\\\n",
    "The parameter $\\sigma$ should not take large value to ensure the curvature of the smiles near the ATM. Therefore, we can choose the following boundaries : $0.01 \\le \\sigma \\le 1$\n",
    "* Parameter $b$ : \\\\\n",
    "Since the call prices convert to $0$ when $k$ tends to $+∞$, $d_1(k)$ must convert to $-∞$ when $k$ tends to $+∞$ (Rogers' Lemma). \\\\\n",
    "In this case: $\n",
    "lim_{k \\to +∞} \\frac{-k}{\\sqrt{w(k)}} + \\frac{\\sqrt{w(k)}}{2} = -∞\n",
    "$ \\\\\n",
    "Therefore : $\n",
    "limsup_{k \\to +∞} \\frac{w(k)}{2k} = \\frac{b (\\rho + 1)}{2} \\lt 1\n",
    "$ \\\\\n",
    "To ensure the above equations, $b$ must respect the following conditions : $\n",
    "10^{-3} \\le b \\lt 1 $"
   ]
  },
  {
   "cell_type": "markdown",
   "metadata": {
    "id": "QidIq2JQXx15"
   },
   "source": [
    "## SVI Model Implementation"
   ]
  },
  {
   "cell_type": "code",
   "execution_count": 2,
   "metadata": {
    "id": "JCMixmoI4Jwd"
   },
   "outputs": [],
   "source": [
    "from scipy.optimize import minimize\n",
    "\n",
    "def svi_calibration(T, k, v2T) :\n",
    "  \"\"\"\n",
    "  SVI model calibration : The function will return the calibrated SVI total variances.\n",
    "  The argument T can be a scalar or an array.\n",
    "  The constraints functions ensure the Calendar Spread and the Butterfly free-arbitrages.\n",
    "  \"\"\"\n",
    "  if type(T) == int or type(T) == float :\n",
    "    # SVI calibration on a single market tenor\n",
    "    parameters0 = np.array([min(v2T), 0.1, -0.5, 0.1, 0.1]) # a, b, rho, m, sigma : Chosen arbitrary\n",
    "    constraints = ({'type': 'ineq', 'fun':constraint1}, {'type': 'ineq', 'fun':constraint2}, {'type': 'ineq', 'fun':constraint3}, {'type': 'ineq', 'fun':constraint4})\n",
    "    res = minimize(obj_func, x0=parameters0, args=(k, v2T), bounds=((1e-05, max(v2T)), (1e-03, 0.99), (-0.99, 0.99), (2*min(k), 2*max(k)), (1e-02, 0.99)), constraints=constraints)\n",
    "    return res.x\n",
    "  else :\n",
    "    # SVI calibration on a set of market tenors\n",
    "    parameters0 = np.array([min(v2T[0]) / 2, 0.1, -0.5, 0.1, 0.1]) # a, b, rho, m, sigma : Chosen arbitrary\n",
    "    constraints = ({'type': 'ineq', 'fun':constraint1}, {'type': 'ineq', 'fun':constraint2}, {'type': 'ineq', 'fun':constraint3}, {'type': 'ineq', 'fun':constraint4})\n",
    "    res = minimize(obj_func, x0=parameters0, args=(k[0], v2T[0]), bounds=((1e-05, max(v2T[0])), (1e-03, 0.99), (-0.99, 0.99), (2*min(k[0]), 2*max(k[0])), (1e-02, 0.99)), constraints=constraints)\n",
    "    results = [res.x]\n",
    "    for i in range(1, len(T)) :\n",
    "      parameters0 = np.array([min(v2T[i]) / 2, 0.1, -0.5, 0.1, 0.1]) # a, b, rho, m, sigma : Chosen arbitrary\n",
    "      constraints = ({'type': 'ineq', 'fun':constraint1}, {'type': 'ineq', 'fun':constraint2}, {'type': 'ineq', 'fun':constraint3}, {'type': 'ineq', 'fun':constraint4}, {'type': 'ineq', 'fun':constraint5, 'args': (k[i-1], results[i-1])})\n",
    "      res = minimize(obj_func, x0=parameters0, args=(k[i], v2T[i]), bounds=((1e-05, max(v2T[i])), (1e-03, 0.99), (-0.99, 0.99), (2*min(k[i]), 2*max(k[i])), (1e-02, 0.99)), constraints=constraints)\n",
    "      results.append(res.x)\n",
    "    return results\n",
    "\n",
    "def obj_func(parameters, k, v2T) :\n",
    "  \"\"\"\n",
    "  The objective function of the SVI calibration : Sum-Squared Error (SSE) minimization between SVI and market total variances\n",
    "  \"\"\"\n",
    "  svi  = svi_v2T(k, parameters[0], parameters[1], parameters[2], parameters[3], parameters[4])\n",
    "  sse = 0\n",
    "  for i in range(len(k)) :\n",
    "    sse += (svi[i] - v2T[i])**2\n",
    "  return sse\n",
    "\n",
    "def constraint1(parameters):\n",
    "  \"\"\"\n",
    "  1st constraint\n",
    "  \"\"\"\n",
    "  eps = 1e-5\n",
    "  a, b, rho, m, sigma = parameters[0], parameters[1], parameters[2], parameters[3], parameters[4]\n",
    "  return (a - m * b * (rho + 1)) * (4 - a + m * b * (rho + 1)) - b**2 * (rho + 1)**2 - eps\n",
    "\n",
    "def constraint2(parameters):\n",
    "  \"\"\"\n",
    "  2nd constraint\n",
    "  \"\"\"\n",
    "  eps = 1e-5\n",
    "  a, b, rho, m, sigma = parameters[0], parameters[1], parameters[2], parameters[3], parameters[4]\n",
    "  return (a - m * b * (rho - 1)) * (4 - a + m * b * (rho - 1)) - b**2 * (rho - 1)**2 - eps\n",
    "\n",
    "def constraint3(parameters):\n",
    "  \"\"\"\n",
    "  3th constraint\n",
    "  \"\"\"\n",
    "  eps = 1e-5\n",
    "  a, b, rho, m, sigma = parameters[0], parameters[1], parameters[2], parameters[3], parameters[4]\n",
    "  return 4 - b**2 * (rho + 1)**2 - eps\n",
    "\n",
    "def constraint4(parameters):\n",
    "  \"\"\"\n",
    "  4th constraint\n",
    "  \"\"\"\n",
    "  eps = 1e-5\n",
    "  a, b, rho, m, sigma = parameters[0], parameters[1], parameters[2], parameters[3], parameters[4]\n",
    "  return 4 - b**2 * (rho - 1)**2 - eps\n",
    "\n",
    "def constraint5(parameters, k, params_previous):\n",
    "  \"\"\"\n",
    "  5th constraint : Calendar Spread Arbitrage-Free\n",
    "  \"\"\"\n",
    "  v2T_previous = svi_v2T(k, params_previous[0], params_previous[1], params_previous[2], params_previous[3], params_previous[4])\n",
    "  v2T  = svi_v2T(k, parameters[0], parameters[1], parameters[2], parameters[3], parameters[4])\n",
    "  return -1 if (False in (v2T_previous < v2T)) else 1\n"
   ]
  },
  {
   "cell_type": "markdown",
   "metadata": {
    "id": "8UJ2IYpjfQJR"
   },
   "source": [
    "## Application : Equity Options Market\n",
    "\n",
    "The Equity listed options are quoted in prices and not in volatilities. Therefore, market volatilities need to be implied before applying the SVI fitting method.\n",
    "\n",
    "To do so, we use the Newton-Raphson algorithm to find the root $\\sigma_{Imp}(K_{market}, T_{market})$ of the following equation :\n",
    "\n",
    "$$\n",
    "BS(F_0, K, \\sigma_{Imp}(K_{market},T_{market}), T) - MarketPrice(K_{market}, T_{market}) = 0\n",
    "$$\n"
   ]
  },
  {
   "cell_type": "code",
   "execution_count": 3,
   "metadata": {
    "id": "zK_ISZrtbMw4"
   },
   "outputs": [],
   "source": [
    "from scipy.stats import norm\n",
    "\n",
    "def black_scholes(flavor, K, T, S, r, vol, q=0) :\n",
    "  \"\"\"\n",
    "  The Black-Scholes price.\n",
    "  \"\"\"\n",
    "  v2T = vol**2 * T\n",
    "  d1 = (np.log(S/K) + (r - q) * T + v2T / 2) / v2T**0.5\n",
    "  d2 = d1 - v2T**0.5\n",
    "  phi = 1 if flavor.upper() == \"CALL\" else  -1\n",
    "  return phi * (S * math.exp(-q * T) * norm.cdf(phi * d1) - K * math.exp(-r * T) * norm.cdf(phi * d2))\n",
    "\n",
    "def vega_bs(K, T, S, r, vol, q=0) :\n",
    "  \"\"\"\n",
    "  The Black-Scholes Vega greek : The derivative of the option value with respect to the volatility of the underlying asset.\n",
    "  \"\"\"\n",
    "  v2T = vol**2 * T\n",
    "  d2 = (math.log(S/K) + (r - q) * T - v2T / 2) / v2T**0.5\n",
    "  return K * math.exp(-r * T) * norm.pdf(d2) * T**0.5"
   ]
  },
  {
   "cell_type": "code",
   "execution_count": 4,
   "metadata": {
    "id": "LQGosIO0bXUF"
   },
   "outputs": [],
   "source": [
    "import sys\n",
    "\n",
    "def newton_raphson(market_price, init_vol, flavor, K, T, S, r, q=0):\n",
    "  \"\"\"\n",
    "  The Newton-Raphson algorithm : Implied volatilities from market prices\n",
    "  \"\"\"\n",
    "  eps = 1e-07\n",
    "  vol = init_vol\n",
    "  func = black_scholes(flavor, K, T, S, r, vol, q) - market_price\n",
    "  func_deriv = vega_bs(K, T, S, r, vol, q)\n",
    "  error = sys.exit(\"The algorithm failed to converge. Please review the input data.\") if func_deriv < 0.0001 else \"No error.\"\n",
    "  next_vol = vol - func / func_deriv\n",
    "  error = sys.exit(\"The algorithm failed to converge. Please review the input data.\") if next_vol < 0.0001 else \"No error.\"\n",
    "  nb_iteration = 1\n",
    "  while abs(next_vol - vol) > eps :\n",
    "    vol = next_vol\n",
    "    func = black_scholes(flavor, K, T, S, r, vol, q) - market_price\n",
    "    func_deriv = vega_bs(K, T, S, r, vol, q)\n",
    "    error = sys.exit(\"The algorithm failed to converge. Please review the input data.\") if func_deriv < 0.0001 else \"No error.\"\n",
    "    next_vol = vol - func / func_deriv\n",
    "    error = sys.exit(\"The algorithm failed to converge. Please review the input data.\") if next_vol < 0.0001 else \"No error.\"\n",
    "    nb_iteration += 1\n",
    "    error = sys.exit(\"The algorithm failed to converge. Please review the input data.\") if nb_iteration > 300 else \"No error.\"\n",
    "\n",
    "  return next_vol"
   ]
  },
  {
   "cell_type": "markdown",
   "metadata": {
    "id": "_pcyBIh-biaL"
   },
   "source": [
    "Let's take a close look at options on AAPL (Apple Inc. Stock). Let's consider AAPL 3W and 1M European options :"
   ]
  },
  {
   "cell_type": "code",
   "execution_count": 5,
   "metadata": {
    "id": "jvFNSvXGbmDe"
   },
   "outputs": [],
   "source": [
    "from datetime import date\n",
    "import math\n",
    "\n",
    "now_date = date(2023, 5, 8)\n",
    "# Spot price\n",
    "S0 = 173.5\n",
    "# ZC rate\n",
    "r = 5.17 / 100\n",
    "\n",
    "# ******  First Tenor Data ************************\n",
    "tenor1 = date(2023, 5, 26)\n",
    "# Dividend yield\n",
    "d1 = 2.25 / 100\n",
    "strikes1 = np.array([160, 165, 170, 175, 180])\n",
    "prices1 = np.array([0.4, 0.84, 1.82, 2.49, 0.77]) # OTM listed calls and puts prices\n",
    "flavors1 = np.array([\"Put\"] * 3 + [\"Call\"] * 2)\n",
    "T1 = (tenor1 - now_date).days / 365\n",
    "discount1 = math.exp(-r * T1)\n",
    "# Fwd price\n",
    "F1 = S0 * math.exp(-d1 * T1) / discount1\n",
    "# *************************************************\n",
    "\n",
    "# ******  Second Tenor Data ***********************\n",
    "tenor2 = date(2023, 6, 2)\n",
    "# Dividend Yield\n",
    "d2 = 1.62 / 100\n",
    "strikes2 = np.array([160, 165, 170, 175, 180])\n",
    "prices2 = np.array([0.63, 1.2, 2.3, 3.08, 1.15]) # OTM listed calls and puts prices\n",
    "flavors2 = np.array([\"Put\"] * 3 + [\"Call\"] * 2)\n",
    "T2 = (tenor2 - now_date).days / 365\n",
    "discount2 = math.exp(-r * T2)\n",
    "# Fwd price\n",
    "F2 = S0 * math.exp(-d2 * T2) / discount2\n",
    "# *************************************************\n",
    "\n",
    "# Implied Volatilities using the Newton-Raphson Algorithm\n",
    "implied_vols1 = []\n",
    "implied_vols2 = []\n",
    "for i in range(len(strikes1)):\n",
    "    implied_vols1 += [newton_raphson(prices1[i], 0.2, flavors1[i], strikes1[i], T1, S0, r, d1)]\n",
    "    implied_vols2 += [newton_raphson(prices2[i], 0.2, flavors2[i], strikes2[i], T2, S0, r, d2)]\n",
    "\n",
    "# SVI Calibration on both market tenors\n",
    "T = np.array([[T1], [T2]])\n",
    "implied_vols = np.array([implied_vols1, implied_vols2])\n",
    "k = np.array([np.log(strikes1 / F1), np.log(strikes2 / F2)])\n",
    "v2T = (implied_vols**2) * T\n",
    "params = svi_calibration(T, k, v2T)\n",
    "params0, params1 = params[0], params[1]\n",
    "\n",
    "# SVI V2T\n",
    "svi_v2T0 = svi_v2T(k[0], params0[0], params0[1], params0[2], params0[3], params0[4])\n",
    "svi_v2T1= svi_v2T(k[1], params1[0], params1[1], params1[2], params1[3], params1[4])\n",
    "\n",
    "# SVI Vol\n",
    "svi_v0 = svi_vol(k[0], params0[0], params0[1], params0[2], params0[3], params0[4], T[0])\n",
    "svi_v1= svi_vol(k[1], params1[0], params1[1], params1[2], params1[3], params1[4], T[1])"
   ]
  },
  {
   "cell_type": "code",
   "execution_count": 6,
   "metadata": {
    "colab": {
     "base_uri": "https://localhost:8080/",
     "height": 472
    },
    "id": "o9RmGL3JnUbA",
    "outputId": "5f3f8d69-620d-4b6c-a98d-460f7abb8f93"
   },
   "outputs": [
    {
     "data": {
      "image/png": "[encoded data removed]",
      "text/plain": [
       "<Figure size 432x288 with 1 Axes>"
      ]
     },
     "metadata": {
      "needs_background": "light"
     },
     "output_type": "display_data"
    }
   ],
   "source": [
    "# Volatility Skews : Market vs SVI\n",
    "\n",
    "import matplotlib.pyplot as plt\n",
    "\n",
    "x_axis = np.linspace(-0.1, 0.12, 23)\n",
    "svi_v2T0 = svi_v2T(x_axis, params0[0], params0[1], params0[2], params0[3], params0[4])\n",
    "svi_v2T1= svi_v2T(x_axis, params1[0], params1[1], params1[2], params1[3], params1[4])\n",
    "\n",
    "plt.ylabel(\"V2T\")\n",
    "plt.xlabel(\"Log-Moneyness\")\n",
    "plt.title(\"Market vs SVI\")\n",
    "plt.scatter(k[0], v2T[0], color=\"red\", label=\"Market V2T T1\")\n",
    "plt.scatter(k[1], v2T[1], color=\"blue\", label=\"Market V2T T2\")\n",
    "plt.plot(x_axis, svi_v2T0, color=\"green\", label=\"SVI V2T T1\")\n",
    "plt.plot(x_axis, svi_v2T1, color=\"yellow\", label=\"SVI V2T T2\")\n",
    "plt.legend(loc=\"upper right\")\n",
    "plt.show()"
   ]
  }
 ],
 "metadata": {
  "colab": {
   "provenance": []
  },
  "kernelspec": {
   "display_name": "Python 3 (ipykernel)",
   "language": "python",
   "name": "python3"
  },
  "language_info": {
   "codemirror_mode": {
    "name": "ipython",
    "version": 3
   },
   "file_extension": ".py",
   "mimetype": "text/x-python",
   "name": "python",
   "nbconvert_exporter": "python",
   "pygments_lexer": "ipython3",
   "version": "3.9.12"
  }
 },
 "nbformat": 4,
 "nbformat_minor": 1
}
